{
 "cells": [
  {
   "cell_type": "markdown",
   "metadata": {},
   "source": [
    "[![Open in Colab](https://colab.research.google.com/assets/colab-badge.svg)](\n",
    "https://colab.research.google.com/github/mhuertascompany/euclid-school-2025/blob/main/Y1/notebooks/euclidzoo_foundation_model.ipynb)\n",
    "\n",
    "# Tiny Transfer Learning with Self-Supervised Encoders (DINOv2 vs Zoobot)\n",
    "\n",
    "## Rodolphe Cledassou School 2025\n",
    "> Marc Huertas-Company & Hubert Bretonnière\n",
    "\n",
    "This notebook illustrates simple transfer learning for image classification:\n",
    "1. **Self-supervised general encoder**: DINOv2-S (small) from Hugging Face — we freeze it and train a **linear probe** (logistic classifier) on your dataset.\n",
    "2. **Domain-specific encoder**: **Zoobot** (ConvNeXt Nano) pretrained on galaxy images — we repeat the same linear-probe protocol.\n",
    "3. **Compare** accuracy and confusion matrices.\n",
    "\n",
    "> Why linear probe? It’s fast and isolates **feature quality** without conflating with heavy fine-tuning."
   ]
  },
  {
   "cell_type": "markdown",
   "metadata": {},
   "source": [
    "## 0) Setup & installs\n",
    "\n",
    "- Installs: `transformers` (for DINOv2), `timm` (for Zoobot encoder), `datasets/torchvision` (data), `huggingface_hub` (model download).\n",
    "- Device: prefer **Apple Metal (MPS)** on Mac; else CUDA; else CPU."
   ]
  },
  {
   "cell_type": "code",
   "execution_count": 1,
   "metadata": {},
   "outputs": [
    {
     "name": "stderr",
     "output_type": "stream",
     "text": [
      "/Users/marchuertascompany/soft/miniforge3/envs/spender/lib/python3.10/site-packages/torchvision/io/image.py:14: UserWarning: Failed to load image Python extension: 'dlopen(/Users/marchuertascompany/soft/miniforge3/envs/spender/lib/python3.10/site-packages/torchvision/image.so, 0x0006): Library not loaded: @rpath/libjpeg.9.dylib\n",
      "  Referenced from: <0B7EB158-53DC-3403-8A49-22178CAB4612> /Users/marchuertascompany/soft/miniforge3/envs/spender/lib/python3.10/site-packages/torchvision/image.so\n",
      "  Reason: tried: '/Users/marchuertascompany/soft/miniforge3/envs/spender/lib/python3.10/site-packages/torchvision/../../../libjpeg.9.dylib' (no such file), '/Users/marchuertascompany/soft/miniforge3/envs/spender/lib/python3.10/site-packages/torchvision/../../../libjpeg.9.dylib' (no such file), '/Users/marchuertascompany/soft/miniforge3/envs/spender/lib/python3.10/lib-dynload/../../libjpeg.9.dylib' (no such file), '/Users/marchuertascompany/soft/miniforge3/envs/spender/bin/../lib/libjpeg.9.dylib' (no such file)'If you don't plan on using image functionality from `torchvision.io`, you can ignore this warning. Otherwise, there might be something wrong with your environment. Did you have `libjpeg` or `libpng` installed before building `torchvision` from source?\n",
      "  warn(\n",
      "/Users/marchuertascompany/soft/miniforge3/envs/spender/lib/python3.10/site-packages/tqdm/auto.py:21: TqdmWarning: IProgress not found. Please update jupyter and ipywidgets. See https://ipywidgets.readthedocs.io/en/stable/user_install.html\n",
      "  from .autonotebook import tqdm as notebook_tqdm\n"
     ]
    },
    {
     "name": "stdout",
     "output_type": "stream",
     "text": [
      "Using device: mps\n"
     ]
    }
   ],
   "source": [
    "# If needed, uncomment these installs (run once)\n",
    "# %pip install -q transformers timm datasets torchvision huggingface_hub Pillow\n",
    "\n",
    "import os, math, random, time, numpy as np\n",
    "os.environ[\"PYTORCH_ENABLE_MPS_FALLBACK\"] = \"1\"\n",
    "import torch, torch.nn as nn, torch.nn.functional as F\n",
    "from torch.utils.data import DataLoader\n",
    "from torchvision import transforms, datasets\n",
    "\n",
    "from datasets import load_dataset\n",
    "from huggingface_hub import login\n",
    "\n",
    "device = (\n",
    "    torch.device(\"mps\") if torch.backends.mps.is_available()\n",
    "    else torch.device(\"cuda\") if torch.cuda.is_available()\n",
    "    else torch.device(\"cpu\")\n",
    ")\n",
    "print(\"Using device:\", device)\n",
    "\n",
    "torch.manual_seed(42); np.random.seed(42); random.seed(42)"
   ]
  },
  {
   "cell_type": "markdown",
   "metadata": {},
   "source": [
    "## 1) Data: use your local folder if available, else fall back to a tiny HF dataset\n",
    "\n",
    "- If `./zoo-data/train/...` exists we load it as an ImageFolder.\n",
    "- Otherwise, we use the **Beans** dataset (3 classes, small) from 🤗 Datasets to keep things light.\n",
    "- We apply standard **224×224** transforms (to match ViT/ConvNeXt defaults)."
   ]
  },
  {
   "cell_type": "code",
   "execution_count": 8,
   "metadata": {},
   "outputs": [
    {
     "name": "stdout",
     "output_type": "stream",
     "text": [
      "Classes: ['featured', 'problem', 'smooth']\n"
     ]
    }
   ],
   "source": [
    "IMG_SIZE = 224\n",
    "BATCH_SIZE = 64\n",
    "\n",
    "from torchvision import transforms, datasets\n",
    "\n",
    "train_tfms = transforms.Compose([\n",
    "    transforms.Resize((IMG_SIZE, IMG_SIZE)),\n",
    "    transforms.ToTensor(),\n",
    "    transforms.Normalize(mean=(0.5,0.5,0.5), std=(0.5,0.5,0.5)),\n",
    "])\n",
    "test_tfms = transforms.Compose([\n",
    "    transforms.Resize((IMG_SIZE, IMG_SIZE)),\n",
    "    transforms.ToTensor(),\n",
    "    transforms.Normalize(mean=(0.5,0.5,0.5), std=(0.5,0.5,0.5)),\n",
    "])\n",
    "\n",
    "def dl_from_imagefolder(root=\"zoo-data\"):\n",
    "    train_dir, test_dir = os.path.join(root,\"train\"), os.path.join(root,\"test\")\n",
    "    if os.path.isdir(train_dir) and os.path.isdir(test_dir):\n",
    "        train_ds = datasets.ImageFolder(train_dir, transform=train_tfms)\n",
    "        test_ds  = datasets.ImageFolder(test_dir,  transform=test_tfms)\n",
    "        return train_ds, test_ds\n",
    "    return None, None\n",
    "\n",
    "train_ds, test_ds = dl_from_imagefolder(\"zoo-data\")\n",
    "\n",
    "\n",
    "NUM_CLASSES = len(getattr(train_ds, \"classes\", [])) or len(set([y for _,y in [train_ds[i] for i in range(min(200,len(train_ds)))] ]))\n",
    "print(\"Classes:\", getattr(train_ds,\"classes\", f\"{NUM_CLASSES} classes\"))\n",
    "\n",
    "train_loader = DataLoader(train_ds, batch_size=BATCH_SIZE, shuffle=True,  num_workers=2)\n",
    "val_loader   = DataLoader(test_ds,  batch_size=BATCH_SIZE, shuffle=False, num_workers=2)"
   ]
  },
  {
   "cell_type": "markdown",
   "metadata": {},
   "source": [
    "## 2) Linear probe on **DINOv2-S** (frozen) from Hugging Face\n",
    "\n",
    "- Model: `facebook/dinov2-small`\n",
    "- We use the CLS token from the final hidden state as a **feature vector**.\n",
    "- We train a small **linear head** on top.\n",
    "- Then we evaluate validation accuracy."
   ]
  },
  {
   "cell_type": "code",
   "execution_count": 4,
   "metadata": {},
   "outputs": [
    {
     "name": "stderr",
     "output_type": "stream",
     "text": [
      "/Users/marchuertascompany/soft/miniforge3/envs/spender/lib/python3.10/site-packages/huggingface_hub/file_download.py:945: FutureWarning: `resume_download` is deprecated and will be removed in version 1.0.0. Downloads always resume when possible. If you want to force a new download, use `force_download=True`.\n",
      "  warnings.warn(\n"
     ]
    },
    {
     "name": "stdout",
     "output_type": "stream",
     "text": [
      "Training linear probe (DINOv2-S, frozen encoder)...\n"
     ]
    },
    {
     "name": "stderr",
     "output_type": "stream",
     "text": [
      "/Users/marchuertascompany/soft/miniforge3/envs/spender/lib/python3.10/site-packages/torch/nn/functional.py:4594: UserWarning: The operator 'aten::upsample_bicubic2d.out' is not currently supported on the MPS backend and will fall back to run on the CPU. This may have performance implications. (Triggered internally at /Users/runner/work/pytorch/pytorch/pytorch/aten/src/ATen/mps/MPSFallback.mm:13.)\n",
      "  return torch._C._nn.upsample_bicubic2d(\n",
      "/Users/marchuertascompany/soft/miniforge3/envs/spender/lib/python3.10/site-packages/torchvision/io/image.py:14: UserWarning: Failed to load image Python extension: 'dlopen(/Users/marchuertascompany/soft/miniforge3/envs/spender/lib/python3.10/site-packages/torchvision/image.so, 0x0006): Library not loaded: @rpath/libjpeg.9.dylib\n",
      "  Referenced from: <0B7EB158-53DC-3403-8A49-22178CAB4612> /Users/marchuertascompany/soft/miniforge3/envs/spender/lib/python3.10/site-packages/torchvision/image.so\n",
      "  Reason: tried: '/Users/marchuertascompany/soft/miniforge3/envs/spender/lib/python3.10/site-packages/torchvision/../../../libjpeg.9.dylib' (no such file), '/Users/marchuertascompany/soft/miniforge3/envs/spender/lib/python3.10/site-packages/torchvision/../../../libjpeg.9.dylib' (no such file), '/Users/marchuertascompany/soft/miniforge3/envs/spender/lib/python3.10/lib-dynload/../../libjpeg.9.dylib' (no such file), '/Users/marchuertascompany/soft/miniforge3/envs/spender/bin/../lib/libjpeg.9.dylib' (no such file)'If you don't plan on using image functionality from `torchvision.io`, you can ignore this warning. Otherwise, there might be something wrong with your environment. Did you have `libjpeg` or `libpng` installed before building `torchvision` from source?\n",
      "  warn(\n",
      "/Users/marchuertascompany/soft/miniforge3/envs/spender/lib/python3.10/site-packages/torchvision/io/image.py:14: UserWarning: Failed to load image Python extension: 'dlopen(/Users/marchuertascompany/soft/miniforge3/envs/spender/lib/python3.10/site-packages/torchvision/image.so, 0x0006): Library not loaded: @rpath/libjpeg.9.dylib\n",
      "  Referenced from: <0B7EB158-53DC-3403-8A49-22178CAB4612> /Users/marchuertascompany/soft/miniforge3/envs/spender/lib/python3.10/site-packages/torchvision/image.so\n",
      "  Reason: tried: '/Users/marchuertascompany/soft/miniforge3/envs/spender/lib/python3.10/site-packages/torchvision/../../../libjpeg.9.dylib' (no such file), '/Users/marchuertascompany/soft/miniforge3/envs/spender/lib/python3.10/site-packages/torchvision/../../../libjpeg.9.dylib' (no such file), '/Users/marchuertascompany/soft/miniforge3/envs/spender/lib/python3.10/lib-dynload/../../libjpeg.9.dylib' (no such file), '/Users/marchuertascompany/soft/miniforge3/envs/spender/bin/../lib/libjpeg.9.dylib' (no such file)'If you don't plan on using image functionality from `torchvision.io`, you can ignore this warning. Otherwise, there might be something wrong with your environment. Did you have `libjpeg` or `libpng` installed before building `torchvision` from source?\n",
      "  warn(\n",
      "/Users/marchuertascompany/soft/miniforge3/envs/spender/lib/python3.10/site-packages/torchvision/io/image.py:14: UserWarning: Failed to load image Python extension: 'dlopen(/Users/marchuertascompany/soft/miniforge3/envs/spender/lib/python3.10/site-packages/torchvision/image.so, 0x0006): Library not loaded: @rpath/libjpeg.9.dylib\n",
      "  Referenced from: <0B7EB158-53DC-3403-8A49-22178CAB4612> /Users/marchuertascompany/soft/miniforge3/envs/spender/lib/python3.10/site-packages/torchvision/image.so\n",
      "  Reason: tried: '/Users/marchuertascompany/soft/miniforge3/envs/spender/lib/python3.10/site-packages/torchvision/../../../libjpeg.9.dylib' (no such file), '/Users/marchuertascompany/soft/miniforge3/envs/spender/lib/python3.10/site-packages/torchvision/../../../libjpeg.9.dylib' (no such file), '/Users/marchuertascompany/soft/miniforge3/envs/spender/lib/python3.10/lib-dynload/../../libjpeg.9.dylib' (no such file), '/Users/marchuertascompany/soft/miniforge3/envs/spender/bin/../lib/libjpeg.9.dylib' (no such file)'If you don't plan on using image functionality from `torchvision.io`, you can ignore this warning. Otherwise, there might be something wrong with your environment. Did you have `libjpeg` or `libpng` installed before building `torchvision` from source?\n",
      "  warn(\n",
      "/Users/marchuertascompany/soft/miniforge3/envs/spender/lib/python3.10/site-packages/torchvision/io/image.py:14: UserWarning: Failed to load image Python extension: 'dlopen(/Users/marchuertascompany/soft/miniforge3/envs/spender/lib/python3.10/site-packages/torchvision/image.so, 0x0006): Library not loaded: @rpath/libjpeg.9.dylib\n",
      "  Referenced from: <0B7EB158-53DC-3403-8A49-22178CAB4612> /Users/marchuertascompany/soft/miniforge3/envs/spender/lib/python3.10/site-packages/torchvision/image.so\n",
      "  Reason: tried: '/Users/marchuertascompany/soft/miniforge3/envs/spender/lib/python3.10/site-packages/torchvision/../../../libjpeg.9.dylib' (no such file), '/Users/marchuertascompany/soft/miniforge3/envs/spender/lib/python3.10/site-packages/torchvision/../../../libjpeg.9.dylib' (no such file), '/Users/marchuertascompany/soft/miniforge3/envs/spender/lib/python3.10/lib-dynload/../../libjpeg.9.dylib' (no such file), '/Users/marchuertascompany/soft/miniforge3/envs/spender/bin/../lib/libjpeg.9.dylib' (no such file)'If you don't plan on using image functionality from `torchvision.io`, you can ignore this warning. Otherwise, there might be something wrong with your environment. Did you have `libjpeg` or `libpng` installed before building `torchvision` from source?\n",
      "  warn(\n"
     ]
    },
    {
     "name": "stdout",
     "output_type": "stream",
     "text": [
      "[DINOv2] step 0050  loss=0.5339  acc(batch)=0.719\n"
     ]
    },
    {
     "name": "stderr",
     "output_type": "stream",
     "text": [
      "/Users/marchuertascompany/soft/miniforge3/envs/spender/lib/python3.10/site-packages/torchvision/io/image.py:14: UserWarning: Failed to load image Python extension: 'dlopen(/Users/marchuertascompany/soft/miniforge3/envs/spender/lib/python3.10/site-packages/torchvision/image.so, 0x0006): Library not loaded: @rpath/libjpeg.9.dylib\n",
      "  Referenced from: <0B7EB158-53DC-3403-8A49-22178CAB4612> /Users/marchuertascompany/soft/miniforge3/envs/spender/lib/python3.10/site-packages/torchvision/image.so\n",
      "  Reason: tried: '/Users/marchuertascompany/soft/miniforge3/envs/spender/lib/python3.10/site-packages/torchvision/../../../libjpeg.9.dylib' (no such file), '/Users/marchuertascompany/soft/miniforge3/envs/spender/lib/python3.10/site-packages/torchvision/../../../libjpeg.9.dylib' (no such file), '/Users/marchuertascompany/soft/miniforge3/envs/spender/lib/python3.10/lib-dynload/../../libjpeg.9.dylib' (no such file), '/Users/marchuertascompany/soft/miniforge3/envs/spender/bin/../lib/libjpeg.9.dylib' (no such file)'If you don't plan on using image functionality from `torchvision.io`, you can ignore this warning. Otherwise, there might be something wrong with your environment. Did you have `libjpeg` or `libpng` installed before building `torchvision` from source?\n",
      "  warn(\n",
      "/Users/marchuertascompany/soft/miniforge3/envs/spender/lib/python3.10/site-packages/torchvision/io/image.py:14: UserWarning: Failed to load image Python extension: 'dlopen(/Users/marchuertascompany/soft/miniforge3/envs/spender/lib/python3.10/site-packages/torchvision/image.so, 0x0006): Library not loaded: @rpath/libjpeg.9.dylib\n",
      "  Referenced from: <0B7EB158-53DC-3403-8A49-22178CAB4612> /Users/marchuertascompany/soft/miniforge3/envs/spender/lib/python3.10/site-packages/torchvision/image.so\n",
      "  Reason: tried: '/Users/marchuertascompany/soft/miniforge3/envs/spender/lib/python3.10/site-packages/torchvision/../../../libjpeg.9.dylib' (no such file), '/Users/marchuertascompany/soft/miniforge3/envs/spender/lib/python3.10/site-packages/torchvision/../../../libjpeg.9.dylib' (no such file), '/Users/marchuertascompany/soft/miniforge3/envs/spender/lib/python3.10/lib-dynload/../../libjpeg.9.dylib' (no such file), '/Users/marchuertascompany/soft/miniforge3/envs/spender/bin/../lib/libjpeg.9.dylib' (no such file)'If you don't plan on using image functionality from `torchvision.io`, you can ignore this warning. Otherwise, there might be something wrong with your environment. Did you have `libjpeg` or `libpng` installed before building `torchvision` from source?\n",
      "  warn(\n"
     ]
    },
    {
     "name": "stdout",
     "output_type": "stream",
     "text": [
      "[DINOv2] step 0100  loss=0.4883  acc(batch)=0.750\n"
     ]
    },
    {
     "name": "stderr",
     "output_type": "stream",
     "text": [
      "/Users/marchuertascompany/soft/miniforge3/envs/spender/lib/python3.10/site-packages/torchvision/io/image.py:14: UserWarning: Failed to load image Python extension: 'dlopen(/Users/marchuertascompany/soft/miniforge3/envs/spender/lib/python3.10/site-packages/torchvision/image.so, 0x0006): Library not loaded: @rpath/libjpeg.9.dylib\n",
      "  Referenced from: <0B7EB158-53DC-3403-8A49-22178CAB4612> /Users/marchuertascompany/soft/miniforge3/envs/spender/lib/python3.10/site-packages/torchvision/image.so\n",
      "  Reason: tried: '/Users/marchuertascompany/soft/miniforge3/envs/spender/lib/python3.10/site-packages/torchvision/../../../libjpeg.9.dylib' (no such file), '/Users/marchuertascompany/soft/miniforge3/envs/spender/lib/python3.10/site-packages/torchvision/../../../libjpeg.9.dylib' (no such file), '/Users/marchuertascompany/soft/miniforge3/envs/spender/lib/python3.10/lib-dynload/../../libjpeg.9.dylib' (no such file), '/Users/marchuertascompany/soft/miniforge3/envs/spender/bin/../lib/libjpeg.9.dylib' (no such file)'If you don't plan on using image functionality from `torchvision.io`, you can ignore this warning. Otherwise, there might be something wrong with your environment. Did you have `libjpeg` or `libpng` installed before building `torchvision` from source?\n",
      "  warn(\n",
      "/Users/marchuertascompany/soft/miniforge3/envs/spender/lib/python3.10/site-packages/torchvision/io/image.py:14: UserWarning: Failed to load image Python extension: 'dlopen(/Users/marchuertascompany/soft/miniforge3/envs/spender/lib/python3.10/site-packages/torchvision/image.so, 0x0006): Library not loaded: @rpath/libjpeg.9.dylib\n",
      "  Referenced from: <0B7EB158-53DC-3403-8A49-22178CAB4612> /Users/marchuertascompany/soft/miniforge3/envs/spender/lib/python3.10/site-packages/torchvision/image.so\n",
      "  Reason: tried: '/Users/marchuertascompany/soft/miniforge3/envs/spender/lib/python3.10/site-packages/torchvision/../../../libjpeg.9.dylib' (no such file), '/Users/marchuertascompany/soft/miniforge3/envs/spender/lib/python3.10/site-packages/torchvision/../../../libjpeg.9.dylib' (no such file), '/Users/marchuertascompany/soft/miniforge3/envs/spender/lib/python3.10/lib-dynload/../../libjpeg.9.dylib' (no such file), '/Users/marchuertascompany/soft/miniforge3/envs/spender/bin/../lib/libjpeg.9.dylib' (no such file)'If you don't plan on using image functionality from `torchvision.io`, you can ignore this warning. Otherwise, there might be something wrong with your environment. Did you have `libjpeg` or `libpng` installed before building `torchvision` from source?\n",
      "  warn(\n"
     ]
    },
    {
     "name": "stdout",
     "output_type": "stream",
     "text": [
      "[DINOv2] step 0150  loss=0.6011  acc(batch)=0.797\n"
     ]
    },
    {
     "name": "stderr",
     "output_type": "stream",
     "text": [
      "/Users/marchuertascompany/soft/miniforge3/envs/spender/lib/python3.10/site-packages/torchvision/io/image.py:14: UserWarning: Failed to load image Python extension: 'dlopen(/Users/marchuertascompany/soft/miniforge3/envs/spender/lib/python3.10/site-packages/torchvision/image.so, 0x0006): Library not loaded: @rpath/libjpeg.9.dylib\n",
      "  Referenced from: <0B7EB158-53DC-3403-8A49-22178CAB4612> /Users/marchuertascompany/soft/miniforge3/envs/spender/lib/python3.10/site-packages/torchvision/image.so\n",
      "  Reason: tried: '/Users/marchuertascompany/soft/miniforge3/envs/spender/lib/python3.10/site-packages/torchvision/../../../libjpeg.9.dylib' (no such file), '/Users/marchuertascompany/soft/miniforge3/envs/spender/lib/python3.10/site-packages/torchvision/../../../libjpeg.9.dylib' (no such file), '/Users/marchuertascompany/soft/miniforge3/envs/spender/lib/python3.10/lib-dynload/../../libjpeg.9.dylib' (no such file), '/Users/marchuertascompany/soft/miniforge3/envs/spender/bin/../lib/libjpeg.9.dylib' (no such file)'If you don't plan on using image functionality from `torchvision.io`, you can ignore this warning. Otherwise, there might be something wrong with your environment. Did you have `libjpeg` or `libpng` installed before building `torchvision` from source?\n",
      "  warn(\n",
      "/Users/marchuertascompany/soft/miniforge3/envs/spender/lib/python3.10/site-packages/torchvision/io/image.py:14: UserWarning: Failed to load image Python extension: 'dlopen(/Users/marchuertascompany/soft/miniforge3/envs/spender/lib/python3.10/site-packages/torchvision/image.so, 0x0006): Library not loaded: @rpath/libjpeg.9.dylib\n",
      "  Referenced from: <0B7EB158-53DC-3403-8A49-22178CAB4612> /Users/marchuertascompany/soft/miniforge3/envs/spender/lib/python3.10/site-packages/torchvision/image.so\n",
      "  Reason: tried: '/Users/marchuertascompany/soft/miniforge3/envs/spender/lib/python3.10/site-packages/torchvision/../../../libjpeg.9.dylib' (no such file), '/Users/marchuertascompany/soft/miniforge3/envs/spender/lib/python3.10/site-packages/torchvision/../../../libjpeg.9.dylib' (no such file), '/Users/marchuertascompany/soft/miniforge3/envs/spender/lib/python3.10/lib-dynload/../../libjpeg.9.dylib' (no such file), '/Users/marchuertascompany/soft/miniforge3/envs/spender/bin/../lib/libjpeg.9.dylib' (no such file)'If you don't plan on using image functionality from `torchvision.io`, you can ignore this warning. Otherwise, there might be something wrong with your environment. Did you have `libjpeg` or `libpng` installed before building `torchvision` from source?\n",
      "  warn(\n"
     ]
    },
    {
     "name": "stdout",
     "output_type": "stream",
     "text": [
      "[DINOv2] step 0200  loss=0.5246  acc(batch)=0.797\n"
     ]
    },
    {
     "name": "stderr",
     "output_type": "stream",
     "text": [
      "/Users/marchuertascompany/soft/miniforge3/envs/spender/lib/python3.10/site-packages/torchvision/io/image.py:14: UserWarning: Failed to load image Python extension: 'dlopen(/Users/marchuertascompany/soft/miniforge3/envs/spender/lib/python3.10/site-packages/torchvision/image.so, 0x0006): Library not loaded: @rpath/libjpeg.9.dylib\n",
      "  Referenced from: <0B7EB158-53DC-3403-8A49-22178CAB4612> /Users/marchuertascompany/soft/miniforge3/envs/spender/lib/python3.10/site-packages/torchvision/image.so\n",
      "  Reason: tried: '/Users/marchuertascompany/soft/miniforge3/envs/spender/lib/python3.10/site-packages/torchvision/../../../libjpeg.9.dylib' (no such file), '/Users/marchuertascompany/soft/miniforge3/envs/spender/lib/python3.10/site-packages/torchvision/../../../libjpeg.9.dylib' (no such file), '/Users/marchuertascompany/soft/miniforge3/envs/spender/lib/python3.10/lib-dynload/../../libjpeg.9.dylib' (no such file), '/Users/marchuertascompany/soft/miniforge3/envs/spender/bin/../lib/libjpeg.9.dylib' (no such file)'If you don't plan on using image functionality from `torchvision.io`, you can ignore this warning. Otherwise, there might be something wrong with your environment. Did you have `libjpeg` or `libpng` installed before building `torchvision` from source?\n",
      "  warn(\n",
      "/Users/marchuertascompany/soft/miniforge3/envs/spender/lib/python3.10/site-packages/torchvision/io/image.py:14: UserWarning: Failed to load image Python extension: 'dlopen(/Users/marchuertascompany/soft/miniforge3/envs/spender/lib/python3.10/site-packages/torchvision/image.so, 0x0006): Library not loaded: @rpath/libjpeg.9.dylib\n",
      "  Referenced from: <0B7EB158-53DC-3403-8A49-22178CAB4612> /Users/marchuertascompany/soft/miniforge3/envs/spender/lib/python3.10/site-packages/torchvision/image.so\n",
      "  Reason: tried: '/Users/marchuertascompany/soft/miniforge3/envs/spender/lib/python3.10/site-packages/torchvision/../../../libjpeg.9.dylib' (no such file), '/Users/marchuertascompany/soft/miniforge3/envs/spender/lib/python3.10/site-packages/torchvision/../../../libjpeg.9.dylib' (no such file), '/Users/marchuertascompany/soft/miniforge3/envs/spender/lib/python3.10/lib-dynload/../../libjpeg.9.dylib' (no such file), '/Users/marchuertascompany/soft/miniforge3/envs/spender/bin/../lib/libjpeg.9.dylib' (no such file)'If you don't plan on using image functionality from `torchvision.io`, you can ignore this warning. Otherwise, there might be something wrong with your environment. Did you have `libjpeg` or `libpng` installed before building `torchvision` from source?\n",
      "  warn(\n"
     ]
    },
    {
     "name": "stdout",
     "output_type": "stream",
     "text": [
      "[DINOv2] step 0250  loss=0.3751  acc(batch)=0.891\n"
     ]
    },
    {
     "name": "stderr",
     "output_type": "stream",
     "text": [
      "/Users/marchuertascompany/soft/miniforge3/envs/spender/lib/python3.10/site-packages/torchvision/io/image.py:14: UserWarning: Failed to load image Python extension: 'dlopen(/Users/marchuertascompany/soft/miniforge3/envs/spender/lib/python3.10/site-packages/torchvision/image.so, 0x0006): Library not loaded: @rpath/libjpeg.9.dylib\n",
      "  Referenced from: <0B7EB158-53DC-3403-8A49-22178CAB4612> /Users/marchuertascompany/soft/miniforge3/envs/spender/lib/python3.10/site-packages/torchvision/image.so\n",
      "  Reason: tried: '/Users/marchuertascompany/soft/miniforge3/envs/spender/lib/python3.10/site-packages/torchvision/../../../libjpeg.9.dylib' (no such file), '/Users/marchuertascompany/soft/miniforge3/envs/spender/lib/python3.10/site-packages/torchvision/../../../libjpeg.9.dylib' (no such file), '/Users/marchuertascompany/soft/miniforge3/envs/spender/lib/python3.10/lib-dynload/../../libjpeg.9.dylib' (no such file), '/Users/marchuertascompany/soft/miniforge3/envs/spender/bin/../lib/libjpeg.9.dylib' (no such file)'If you don't plan on using image functionality from `torchvision.io`, you can ignore this warning. Otherwise, there might be something wrong with your environment. Did you have `libjpeg` or `libpng` installed before building `torchvision` from source?\n",
      "  warn(\n",
      "/Users/marchuertascompany/soft/miniforge3/envs/spender/lib/python3.10/site-packages/torchvision/io/image.py:14: UserWarning: Failed to load image Python extension: 'dlopen(/Users/marchuertascompany/soft/miniforge3/envs/spender/lib/python3.10/site-packages/torchvision/image.so, 0x0006): Library not loaded: @rpath/libjpeg.9.dylib\n",
      "  Referenced from: <0B7EB158-53DC-3403-8A49-22178CAB4612> /Users/marchuertascompany/soft/miniforge3/envs/spender/lib/python3.10/site-packages/torchvision/image.so\n",
      "  Reason: tried: '/Users/marchuertascompany/soft/miniforge3/envs/spender/lib/python3.10/site-packages/torchvision/../../../libjpeg.9.dylib' (no such file), '/Users/marchuertascompany/soft/miniforge3/envs/spender/lib/python3.10/site-packages/torchvision/../../../libjpeg.9.dylib' (no such file), '/Users/marchuertascompany/soft/miniforge3/envs/spender/lib/python3.10/lib-dynload/../../libjpeg.9.dylib' (no such file), '/Users/marchuertascompany/soft/miniforge3/envs/spender/bin/../lib/libjpeg.9.dylib' (no such file)'If you don't plan on using image functionality from `torchvision.io`, you can ignore this warning. Otherwise, there might be something wrong with your environment. Did you have `libjpeg` or `libpng` installed before building `torchvision` from source?\n",
      "  warn(\n"
     ]
    },
    {
     "name": "stdout",
     "output_type": "stream",
     "text": [
      "[DINOv2] step 0300  loss=0.2352  acc(batch)=0.938\n"
     ]
    },
    {
     "name": "stderr",
     "output_type": "stream",
     "text": [
      "/Users/marchuertascompany/soft/miniforge3/envs/spender/lib/python3.10/site-packages/torchvision/io/image.py:14: UserWarning: Failed to load image Python extension: 'dlopen(/Users/marchuertascompany/soft/miniforge3/envs/spender/lib/python3.10/site-packages/torchvision/image.so, 0x0006): Library not loaded: @rpath/libjpeg.9.dylib\n",
      "  Referenced from: <0B7EB158-53DC-3403-8A49-22178CAB4612> /Users/marchuertascompany/soft/miniforge3/envs/spender/lib/python3.10/site-packages/torchvision/image.so\n",
      "  Reason: tried: '/Users/marchuertascompany/soft/miniforge3/envs/spender/lib/python3.10/site-packages/torchvision/../../../libjpeg.9.dylib' (no such file), '/Users/marchuertascompany/soft/miniforge3/envs/spender/lib/python3.10/site-packages/torchvision/../../../libjpeg.9.dylib' (no such file), '/Users/marchuertascompany/soft/miniforge3/envs/spender/lib/python3.10/lib-dynload/../../libjpeg.9.dylib' (no such file), '/Users/marchuertascompany/soft/miniforge3/envs/spender/bin/../lib/libjpeg.9.dylib' (no such file)'If you don't plan on using image functionality from `torchvision.io`, you can ignore this warning. Otherwise, there might be something wrong with your environment. Did you have `libjpeg` or `libpng` installed before building `torchvision` from source?\n",
      "  warn(\n",
      "/Users/marchuertascompany/soft/miniforge3/envs/spender/lib/python3.10/site-packages/torchvision/io/image.py:14: UserWarning: Failed to load image Python extension: 'dlopen(/Users/marchuertascompany/soft/miniforge3/envs/spender/lib/python3.10/site-packages/torchvision/image.so, 0x0006): Library not loaded: @rpath/libjpeg.9.dylib\n",
      "  Referenced from: <0B7EB158-53DC-3403-8A49-22178CAB4612> /Users/marchuertascompany/soft/miniforge3/envs/spender/lib/python3.10/site-packages/torchvision/image.so\n",
      "  Reason: tried: '/Users/marchuertascompany/soft/miniforge3/envs/spender/lib/python3.10/site-packages/torchvision/../../../libjpeg.9.dylib' (no such file), '/Users/marchuertascompany/soft/miniforge3/envs/spender/lib/python3.10/site-packages/torchvision/../../../libjpeg.9.dylib' (no such file), '/Users/marchuertascompany/soft/miniforge3/envs/spender/lib/python3.10/lib-dynload/../../libjpeg.9.dylib' (no such file), '/Users/marchuertascompany/soft/miniforge3/envs/spender/bin/../lib/libjpeg.9.dylib' (no such file)'If you don't plan on using image functionality from `torchvision.io`, you can ignore this warning. Otherwise, there might be something wrong with your environment. Did you have `libjpeg` or `libpng` installed before building `torchvision` from source?\n",
      "  warn(\n"
     ]
    },
    {
     "name": "stdout",
     "output_type": "stream",
     "text": [
      "[DINOv2] val loss=0.4320  acc=0.8162\n"
     ]
    }
   ],
   "source": [
    "from transformers import AutoImageProcessor, AutoModel\n",
    "import numpy as np\n",
    "\n",
    "\n",
    "\n",
    "\n",
    "dinov2_id = \"facebook/dinov2-small\"\n",
    "processor = AutoImageProcessor.from_pretrained(dinov2_id)\n",
    "encoder = AutoModel.from_pretrained(dinov2_id).to(device)\n",
    "encoder.eval()\n",
    "for p in encoder.parameters(): p.requires_grad = False\n",
    "\n",
    "# infer hidden size\n",
    "with torch.no_grad():\n",
    "    dummy = torch.zeros(1, 3, IMG_SIZE, IMG_SIZE).to(device)\n",
    "    imgs = (dummy.permute(0,2,3,1).cpu().numpy()*255*0.5+127.5).clip(0,255).astype(np.uint8)\n",
    "    inputs = processor(images=list(imgs), return_tensors=\"pt\").to(device)\n",
    "    out = encoder(**inputs)\n",
    "    hidden_size = out.last_hidden_state.shape[-1]\n",
    "\n",
    "head = nn.Linear(hidden_size, NUM_CLASSES).to(device)\n",
    "optim = torch.optim.AdamW(head.parameters(), lr=1e-3, weight_decay=1e-2)\n",
    "criterion = nn.CrossEntropyLoss()\n",
    "\n",
    "def dinov2_features(batch_x):\n",
    "    imgs = (batch_x.permute(0,2,3,1).cpu().numpy()*255*0.5+127.5).clip(0,255).astype(np.uint8)\n",
    "    inputs = processor(images=list(imgs), return_tensors=\"pt\").to(device)\n",
    "    with torch.no_grad():\n",
    "        outputs = encoder(**inputs, output_attentions=False)\n",
    "        feats = outputs.last_hidden_state[:, 0, :]\n",
    "    return feats\n",
    "\n",
    "def train_linear_probe(head, train_loader, steps=300):\n",
    "    head.train()\n",
    "    it = iter(train_loader)\n",
    "    for step in range(1, steps+1):\n",
    "        try:\n",
    "            x, y = next(it)\n",
    "        except StopIteration:\n",
    "            it = iter(train_loader); x, y = next(it)\n",
    "        x, y = x.to(device), y.to(device)\n",
    "        feats = dinov2_features(x)\n",
    "        logits = head(feats)\n",
    "        loss = criterion(logits, y)\n",
    "        optim.zero_grad(set_to_none=True)\n",
    "        loss.backward(); optim.step()\n",
    "        if step % 50 == 0:\n",
    "            pred = logits.argmax(1)\n",
    "            acc = (pred==y).float().mean().item()\n",
    "            print(f\"[DINOv2] step {step:04d}  loss={loss.item():.4f}  acc(batch)={acc:.3f}\")\n",
    "\n",
    "@torch.no_grad()\n",
    "def eval_linear_probe(head, loader):\n",
    "    head.eval()\n",
    "    tot, correct, loss_sum = 0, 0, 0.0\n",
    "    for x,y in loader:\n",
    "        x,y = x.to(device), y.to(device)\n",
    "        feats = dinov2_features(x)\n",
    "        logits = head(feats)\n",
    "        loss = criterion(logits, y)\n",
    "        loss_sum += loss.item()*x.size(0)\n",
    "        pred = logits.argmax(1)\n",
    "        tot += y.size(0); correct += (pred==y).sum().item()\n",
    "    return loss_sum/tot, correct/tot\n",
    "\n",
    "print(\"Training linear probe (DINOv2-S, frozen encoder)...\")\n",
    "train_linear_probe(head, train_loader, steps=300)\n",
    "dino_val_loss, dino_val_acc = eval_linear_probe(head, val_loader)\n",
    "print(f\"[DINOv2] val loss={dino_val_loss:.4f}  acc={dino_val_acc:.4f}\")"
   ]
  },
  {
   "cell_type": "markdown",
   "metadata": {},
   "source": [
    "### 2.1) Attention map from DINOv2\n",
    "\n",
    "Visualize CLS attention to patches (last layer, head 0) for one validation example."
   ]
  },
  {
   "cell_type": "code",
   "execution_count": 4,
   "metadata": {},
   "outputs": [
    {
     "name": "stderr",
     "output_type": "stream",
     "text": [
      "/Users/marchuertascompany/soft/miniforge3/envs/spender/lib/python3.10/site-packages/torchvision/io/image.py:14: UserWarning: Failed to load image Python extension: 'dlopen(/Users/marchuertascompany/soft/miniforge3/envs/spender/lib/python3.10/site-packages/torchvision/image.so, 0x0006): Library not loaded: @rpath/libjpeg.9.dylib\n",
      "  Referenced from: <0B7EB158-53DC-3403-8A49-22178CAB4612> /Users/marchuertascompany/soft/miniforge3/envs/spender/lib/python3.10/site-packages/torchvision/image.so\n",
      "  Reason: tried: '/Users/marchuertascompany/soft/miniforge3/envs/spender/lib/python3.10/site-packages/torchvision/../../../libjpeg.9.dylib' (no such file), '/Users/marchuertascompany/soft/miniforge3/envs/spender/lib/python3.10/site-packages/torchvision/../../../libjpeg.9.dylib' (no such file), '/Users/marchuertascompany/soft/miniforge3/envs/spender/lib/python3.10/lib-dynload/../../libjpeg.9.dylib' (no such file), '/Users/marchuertascompany/soft/miniforge3/envs/spender/bin/../lib/libjpeg.9.dylib' (no such file)'If you don't plan on using image functionality from `torchvision.io`, you can ignore this warning. Otherwise, there might be something wrong with your environment. Did you have `libjpeg` or `libpng` installed before building `torchvision` from source?\n",
      "  warn(\n",
      "/Users/marchuertascompany/soft/miniforge3/envs/spender/lib/python3.10/site-packages/torchvision/io/image.py:14: UserWarning: Failed to load image Python extension: 'dlopen(/Users/marchuertascompany/soft/miniforge3/envs/spender/lib/python3.10/site-packages/torchvision/image.so, 0x0006): Library not loaded: @rpath/libjpeg.9.dylib\n",
      "  Referenced from: <0B7EB158-53DC-3403-8A49-22178CAB4612> /Users/marchuertascompany/soft/miniforge3/envs/spender/lib/python3.10/site-packages/torchvision/image.so\n",
      "  Reason: tried: '/Users/marchuertascompany/soft/miniforge3/envs/spender/lib/python3.10/site-packages/torchvision/../../../libjpeg.9.dylib' (no such file), '/Users/marchuertascompany/soft/miniforge3/envs/spender/lib/python3.10/site-packages/torchvision/../../../libjpeg.9.dylib' (no such file), '/Users/marchuertascompany/soft/miniforge3/envs/spender/lib/python3.10/lib-dynload/../../libjpeg.9.dylib' (no such file), '/Users/marchuertascompany/soft/miniforge3/envs/spender/bin/../lib/libjpeg.9.dylib' (no such file)'If you don't plan on using image functionality from `torchvision.io`, you can ignore this warning. Otherwise, there might be something wrong with your environment. Did you have `libjpeg` or `libpng` installed before building `torchvision` from source?\n",
      "  warn(\n"
     ]
    },
    {
     "data": {
      "image/png": "[encoded data removed]",
      "text/plain": [
       "<Figure size 400x400 with 2 Axes>"
      ]
     },
     "metadata": {},
     "output_type": "display_data"
    }
   ],
   "source": [
    "import matplotlib.pyplot as plt, math\n",
    "\n",
    "@torch.no_grad()\n",
    "def show_dinov2_attention(img_tensor):\n",
    "    img = (img_tensor.permute(1,2,0).cpu().numpy()*255*0.5+127.5).clip(0,255).astype(np.uint8)\n",
    "    inputs = processor(images=[img], return_tensors=\"pt\").to(device)\n",
    "    outputs = encoder(**inputs, output_attentions=True)\n",
    "    att = outputs.attentions[-1][0, 0]  # [seq, seq]\n",
    "    cls_to_patches = att[0].cpu().numpy()\n",
    "    L = int(math.sqrt(cls_to_patches.shape[0]-1)) if (cls_to_patches.shape[0]-1)>0 else 1\n",
    "    patch_map = cls_to_patches[1:].reshape(L, L)\n",
    "    plt.figure(figsize=(4,4)); plt.imshow(patch_map)\n",
    "    plt.title(\"DINOv2 — CLS attention to patches (last layer, head 0)\"); plt.axis(\"off\"); plt.colorbar(); plt.show()\n",
    "\n",
    "xb, yb = next(iter(val_loader))\n",
    "show_dinov2_attention(xb[0])"
   ]
  },
  {
   "cell_type": "markdown",
   "metadata": {},
   "source": [
    "## 3) Linear probe on **Zoobot ConvNeXt Nano** (frozen)"
   ]
  },
  {
   "cell_type": "code",
   "execution_count": 3,
   "metadata": {},
   "outputs": [
    {
     "name": "stdout",
     "output_type": "stream",
     "text": [
      "Training linear probe (Zoobot ConvNeXt Nano, frozen encoder)...\n"
     ]
    },
    {
     "name": "stderr",
     "output_type": "stream",
     "text": [
      "/Users/marchuertascompany/soft/miniforge3/envs/spender/lib/python3.10/site-packages/torchvision/io/image.py:14: UserWarning: Failed to load image Python extension: 'dlopen(/Users/marchuertascompany/soft/miniforge3/envs/spender/lib/python3.10/site-packages/torchvision/image.so, 0x0006): Library not loaded: @rpath/libjpeg.9.dylib\n",
      "  Referenced from: <0B7EB158-53DC-3403-8A49-22178CAB4612> /Users/marchuertascompany/soft/miniforge3/envs/spender/lib/python3.10/site-packages/torchvision/image.so\n",
      "  Reason: tried: '/Users/marchuertascompany/soft/miniforge3/envs/spender/lib/python3.10/site-packages/torchvision/../../../libjpeg.9.dylib' (no such file), '/Users/marchuertascompany/soft/miniforge3/envs/spender/lib/python3.10/site-packages/torchvision/../../../libjpeg.9.dylib' (no such file), '/Users/marchuertascompany/soft/miniforge3/envs/spender/lib/python3.10/lib-dynload/../../libjpeg.9.dylib' (no such file), '/Users/marchuertascompany/soft/miniforge3/envs/spender/bin/../lib/libjpeg.9.dylib' (no such file)'If you don't plan on using image functionality from `torchvision.io`, you can ignore this warning. Otherwise, there might be something wrong with your environment. Did you have `libjpeg` or `libpng` installed before building `torchvision` from source?\n",
      "  warn(\n",
      "/Users/marchuertascompany/soft/miniforge3/envs/spender/lib/python3.10/site-packages/torchvision/io/image.py:14: UserWarning: Failed to load image Python extension: 'dlopen(/Users/marchuertascompany/soft/miniforge3/envs/spender/lib/python3.10/site-packages/torchvision/image.so, 0x0006): Library not loaded: @rpath/libjpeg.9.dylib\n",
      "  Referenced from: <0B7EB158-53DC-3403-8A49-22178CAB4612> /Users/marchuertascompany/soft/miniforge3/envs/spender/lib/python3.10/site-packages/torchvision/image.so\n",
      "  Reason: tried: '/Users/marchuertascompany/soft/miniforge3/envs/spender/lib/python3.10/site-packages/torchvision/../../../libjpeg.9.dylib' (no such file), '/Users/marchuertascompany/soft/miniforge3/envs/spender/lib/python3.10/site-packages/torchvision/../../../libjpeg.9.dylib' (no such file), '/Users/marchuertascompany/soft/miniforge3/envs/spender/lib/python3.10/lib-dynload/../../libjpeg.9.dylib' (no such file), '/Users/marchuertascompany/soft/miniforge3/envs/spender/bin/../lib/libjpeg.9.dylib' (no such file)'If you don't plan on using image functionality from `torchvision.io`, you can ignore this warning. Otherwise, there might be something wrong with your environment. Did you have `libjpeg` or `libpng` installed before building `torchvision` from source?\n",
      "  warn(\n",
      "/Users/marchuertascompany/soft/miniforge3/envs/spender/lib/python3.10/site-packages/torchvision/io/image.py:14: UserWarning: Failed to load image Python extension: 'dlopen(/Users/marchuertascompany/soft/miniforge3/envs/spender/lib/python3.10/site-packages/torchvision/image.so, 0x0006): Library not loaded: @rpath/libjpeg.9.dylib\n",
      "  Referenced from: <0B7EB158-53DC-3403-8A49-22178CAB4612> /Users/marchuertascompany/soft/miniforge3/envs/spender/lib/python3.10/site-packages/torchvision/image.so\n",
      "  Reason: tried: '/Users/marchuertascompany/soft/miniforge3/envs/spender/lib/python3.10/site-packages/torchvision/../../../libjpeg.9.dylib' (no such file), '/Users/marchuertascompany/soft/miniforge3/envs/spender/lib/python3.10/site-packages/torchvision/../../../libjpeg.9.dylib' (no such file), '/Users/marchuertascompany/soft/miniforge3/envs/spender/lib/python3.10/lib-dynload/../../libjpeg.9.dylib' (no such file), '/Users/marchuertascompany/soft/miniforge3/envs/spender/bin/../lib/libjpeg.9.dylib' (no such file)'If you don't plan on using image functionality from `torchvision.io`, you can ignore this warning. Otherwise, there might be something wrong with your environment. Did you have `libjpeg` or `libpng` installed before building `torchvision` from source?\n",
      "  warn(\n",
      "/Users/marchuertascompany/soft/miniforge3/envs/spender/lib/python3.10/site-packages/torchvision/io/image.py:14: UserWarning: Failed to load image Python extension: 'dlopen(/Users/marchuertascompany/soft/miniforge3/envs/spender/lib/python3.10/site-packages/torchvision/image.so, 0x0006): Library not loaded: @rpath/libjpeg.9.dylib\n",
      "  Referenced from: <0B7EB158-53DC-3403-8A49-22178CAB4612> /Users/marchuertascompany/soft/miniforge3/envs/spender/lib/python3.10/site-packages/torchvision/image.so\n",
      "  Reason: tried: '/Users/marchuertascompany/soft/miniforge3/envs/spender/lib/python3.10/site-packages/torchvision/../../../libjpeg.9.dylib' (no such file), '/Users/marchuertascompany/soft/miniforge3/envs/spender/lib/python3.10/site-packages/torchvision/../../../libjpeg.9.dylib' (no such file), '/Users/marchuertascompany/soft/miniforge3/envs/spender/lib/python3.10/lib-dynload/../../libjpeg.9.dylib' (no such file), '/Users/marchuertascompany/soft/miniforge3/envs/spender/bin/../lib/libjpeg.9.dylib' (no such file)'If you don't plan on using image functionality from `torchvision.io`, you can ignore this warning. Otherwise, there might be something wrong with your environment. Did you have `libjpeg` or `libpng` installed before building `torchvision` from source?\n",
      "  warn(\n"
     ]
    },
    {
     "name": "stdout",
     "output_type": "stream",
     "text": [
      "[Zoobot] step 0050  loss=0.3589  acc(batch)=0.859\n"
     ]
    },
    {
     "name": "stderr",
     "output_type": "stream",
     "text": [
      "/Users/marchuertascompany/soft/miniforge3/envs/spender/lib/python3.10/site-packages/torchvision/io/image.py:14: UserWarning: Failed to load image Python extension: 'dlopen(/Users/marchuertascompany/soft/miniforge3/envs/spender/lib/python3.10/site-packages/torchvision/image.so, 0x0006): Library not loaded: @rpath/libjpeg.9.dylib\n",
      "  Referenced from: <0B7EB158-53DC-3403-8A49-22178CAB4612> /Users/marchuertascompany/soft/miniforge3/envs/spender/lib/python3.10/site-packages/torchvision/image.so\n",
      "  Reason: tried: '/Users/marchuertascompany/soft/miniforge3/envs/spender/lib/python3.10/site-packages/torchvision/../../../libjpeg.9.dylib' (no such file), '/Users/marchuertascompany/soft/miniforge3/envs/spender/lib/python3.10/site-packages/torchvision/../../../libjpeg.9.dylib' (no such file), '/Users/marchuertascompany/soft/miniforge3/envs/spender/lib/python3.10/lib-dynload/../../libjpeg.9.dylib' (no such file), '/Users/marchuertascompany/soft/miniforge3/envs/spender/bin/../lib/libjpeg.9.dylib' (no such file)'If you don't plan on using image functionality from `torchvision.io`, you can ignore this warning. Otherwise, there might be something wrong with your environment. Did you have `libjpeg` or `libpng` installed before building `torchvision` from source?\n",
      "  warn(\n",
      "/Users/marchuertascompany/soft/miniforge3/envs/spender/lib/python3.10/site-packages/torchvision/io/image.py:14: UserWarning: Failed to load image Python extension: 'dlopen(/Users/marchuertascompany/soft/miniforge3/envs/spender/lib/python3.10/site-packages/torchvision/image.so, 0x0006): Library not loaded: @rpath/libjpeg.9.dylib\n",
      "  Referenced from: <0B7EB158-53DC-3403-8A49-22178CAB4612> /Users/marchuertascompany/soft/miniforge3/envs/spender/lib/python3.10/site-packages/torchvision/image.so\n",
      "  Reason: tried: '/Users/marchuertascompany/soft/miniforge3/envs/spender/lib/python3.10/site-packages/torchvision/../../../libjpeg.9.dylib' (no such file), '/Users/marchuertascompany/soft/miniforge3/envs/spender/lib/python3.10/site-packages/torchvision/../../../libjpeg.9.dylib' (no such file), '/Users/marchuertascompany/soft/miniforge3/envs/spender/lib/python3.10/lib-dynload/../../libjpeg.9.dylib' (no such file), '/Users/marchuertascompany/soft/miniforge3/envs/spender/bin/../lib/libjpeg.9.dylib' (no such file)'If you don't plan on using image functionality from `torchvision.io`, you can ignore this warning. Otherwise, there might be something wrong with your environment. Did you have `libjpeg` or `libpng` installed before building `torchvision` from source?\n",
      "  warn(\n"
     ]
    },
    {
     "name": "stdout",
     "output_type": "stream",
     "text": [
      "[Zoobot] step 0100  loss=0.2292  acc(batch)=0.906\n"
     ]
    },
    {
     "name": "stderr",
     "output_type": "stream",
     "text": [
      "/Users/marchuertascompany/soft/miniforge3/envs/spender/lib/python3.10/site-packages/torchvision/io/image.py:14: UserWarning: Failed to load image Python extension: 'dlopen(/Users/marchuertascompany/soft/miniforge3/envs/spender/lib/python3.10/site-packages/torchvision/image.so, 0x0006): Library not loaded: @rpath/libjpeg.9.dylib\n",
      "  Referenced from: <0B7EB158-53DC-3403-8A49-22178CAB4612> /Users/marchuertascompany/soft/miniforge3/envs/spender/lib/python3.10/site-packages/torchvision/image.so\n",
      "  Reason: tried: '/Users/marchuertascompany/soft/miniforge3/envs/spender/lib/python3.10/site-packages/torchvision/../../../libjpeg.9.dylib' (no such file), '/Users/marchuertascompany/soft/miniforge3/envs/spender/lib/python3.10/site-packages/torchvision/../../../libjpeg.9.dylib' (no such file), '/Users/marchuertascompany/soft/miniforge3/envs/spender/lib/python3.10/lib-dynload/../../libjpeg.9.dylib' (no such file), '/Users/marchuertascompany/soft/miniforge3/envs/spender/bin/../lib/libjpeg.9.dylib' (no such file)'If you don't plan on using image functionality from `torchvision.io`, you can ignore this warning. Otherwise, there might be something wrong with your environment. Did you have `libjpeg` or `libpng` installed before building `torchvision` from source?\n",
      "  warn(\n",
      "/Users/marchuertascompany/soft/miniforge3/envs/spender/lib/python3.10/site-packages/torchvision/io/image.py:14: UserWarning: Failed to load image Python extension: 'dlopen(/Users/marchuertascompany/soft/miniforge3/envs/spender/lib/python3.10/site-packages/torchvision/image.so, 0x0006): Library not loaded: @rpath/libjpeg.9.dylib\n",
      "  Referenced from: <0B7EB158-53DC-3403-8A49-22178CAB4612> /Users/marchuertascompany/soft/miniforge3/envs/spender/lib/python3.10/site-packages/torchvision/image.so\n",
      "  Reason: tried: '/Users/marchuertascompany/soft/miniforge3/envs/spender/lib/python3.10/site-packages/torchvision/../../../libjpeg.9.dylib' (no such file), '/Users/marchuertascompany/soft/miniforge3/envs/spender/lib/python3.10/site-packages/torchvision/../../../libjpeg.9.dylib' (no such file), '/Users/marchuertascompany/soft/miniforge3/envs/spender/lib/python3.10/lib-dynload/../../libjpeg.9.dylib' (no such file), '/Users/marchuertascompany/soft/miniforge3/envs/spender/bin/../lib/libjpeg.9.dylib' (no such file)'If you don't plan on using image functionality from `torchvision.io`, you can ignore this warning. Otherwise, there might be something wrong with your environment. Did you have `libjpeg` or `libpng` installed before building `torchvision` from source?\n",
      "  warn(\n"
     ]
    },
    {
     "name": "stdout",
     "output_type": "stream",
     "text": [
      "[Zoobot] step 0150  loss=0.3397  acc(batch)=0.844\n"
     ]
    },
    {
     "name": "stderr",
     "output_type": "stream",
     "text": [
      "/Users/marchuertascompany/soft/miniforge3/envs/spender/lib/python3.10/site-packages/torchvision/io/image.py:14: UserWarning: Failed to load image Python extension: 'dlopen(/Users/marchuertascompany/soft/miniforge3/envs/spender/lib/python3.10/site-packages/torchvision/image.so, 0x0006): Library not loaded: @rpath/libjpeg.9.dylib\n",
      "  Referenced from: <0B7EB158-53DC-3403-8A49-22178CAB4612> /Users/marchuertascompany/soft/miniforge3/envs/spender/lib/python3.10/site-packages/torchvision/image.so\n",
      "  Reason: tried: '/Users/marchuertascompany/soft/miniforge3/envs/spender/lib/python3.10/site-packages/torchvision/../../../libjpeg.9.dylib' (no such file), '/Users/marchuertascompany/soft/miniforge3/envs/spender/lib/python3.10/site-packages/torchvision/../../../libjpeg.9.dylib' (no such file), '/Users/marchuertascompany/soft/miniforge3/envs/spender/lib/python3.10/lib-dynload/../../libjpeg.9.dylib' (no such file), '/Users/marchuertascompany/soft/miniforge3/envs/spender/bin/../lib/libjpeg.9.dylib' (no such file)'If you don't plan on using image functionality from `torchvision.io`, you can ignore this warning. Otherwise, there might be something wrong with your environment. Did you have `libjpeg` or `libpng` installed before building `torchvision` from source?\n",
      "  warn(\n",
      "/Users/marchuertascompany/soft/miniforge3/envs/spender/lib/python3.10/site-packages/torchvision/io/image.py:14: UserWarning: Failed to load image Python extension: 'dlopen(/Users/marchuertascompany/soft/miniforge3/envs/spender/lib/python3.10/site-packages/torchvision/image.so, 0x0006): Library not loaded: @rpath/libjpeg.9.dylib\n",
      "  Referenced from: <0B7EB158-53DC-3403-8A49-22178CAB4612> /Users/marchuertascompany/soft/miniforge3/envs/spender/lib/python3.10/site-packages/torchvision/image.so\n",
      "  Reason: tried: '/Users/marchuertascompany/soft/miniforge3/envs/spender/lib/python3.10/site-packages/torchvision/../../../libjpeg.9.dylib' (no such file), '/Users/marchuertascompany/soft/miniforge3/envs/spender/lib/python3.10/site-packages/torchvision/../../../libjpeg.9.dylib' (no such file), '/Users/marchuertascompany/soft/miniforge3/envs/spender/lib/python3.10/lib-dynload/../../libjpeg.9.dylib' (no such file), '/Users/marchuertascompany/soft/miniforge3/envs/spender/bin/../lib/libjpeg.9.dylib' (no such file)'If you don't plan on using image functionality from `torchvision.io`, you can ignore this warning. Otherwise, there might be something wrong with your environment. Did you have `libjpeg` or `libpng` installed before building `torchvision` from source?\n",
      "  warn(\n"
     ]
    },
    {
     "name": "stdout",
     "output_type": "stream",
     "text": [
      "[Zoobot] step 0200  loss=0.1776  acc(batch)=0.938\n"
     ]
    },
    {
     "name": "stderr",
     "output_type": "stream",
     "text": [
      "/Users/marchuertascompany/soft/miniforge3/envs/spender/lib/python3.10/site-packages/torchvision/io/image.py:14: UserWarning: Failed to load image Python extension: 'dlopen(/Users/marchuertascompany/soft/miniforge3/envs/spender/lib/python3.10/site-packages/torchvision/image.so, 0x0006): Library not loaded: @rpath/libjpeg.9.dylib\n",
      "  Referenced from: <0B7EB158-53DC-3403-8A49-22178CAB4612> /Users/marchuertascompany/soft/miniforge3/envs/spender/lib/python3.10/site-packages/torchvision/image.so\n",
      "  Reason: tried: '/Users/marchuertascompany/soft/miniforge3/envs/spender/lib/python3.10/site-packages/torchvision/../../../libjpeg.9.dylib' (no such file), '/Users/marchuertascompany/soft/miniforge3/envs/spender/lib/python3.10/site-packages/torchvision/../../../libjpeg.9.dylib' (no such file), '/Users/marchuertascompany/soft/miniforge3/envs/spender/lib/python3.10/lib-dynload/../../libjpeg.9.dylib' (no such file), '/Users/marchuertascompany/soft/miniforge3/envs/spender/bin/../lib/libjpeg.9.dylib' (no such file)'If you don't plan on using image functionality from `torchvision.io`, you can ignore this warning. Otherwise, there might be something wrong with your environment. Did you have `libjpeg` or `libpng` installed before building `torchvision` from source?\n",
      "  warn(\n",
      "/Users/marchuertascompany/soft/miniforge3/envs/spender/lib/python3.10/site-packages/torchvision/io/image.py:14: UserWarning: Failed to load image Python extension: 'dlopen(/Users/marchuertascompany/soft/miniforge3/envs/spender/lib/python3.10/site-packages/torchvision/image.so, 0x0006): Library not loaded: @rpath/libjpeg.9.dylib\n",
      "  Referenced from: <0B7EB158-53DC-3403-8A49-22178CAB4612> /Users/marchuertascompany/soft/miniforge3/envs/spender/lib/python3.10/site-packages/torchvision/image.so\n",
      "  Reason: tried: '/Users/marchuertascompany/soft/miniforge3/envs/spender/lib/python3.10/site-packages/torchvision/../../../libjpeg.9.dylib' (no such file), '/Users/marchuertascompany/soft/miniforge3/envs/spender/lib/python3.10/site-packages/torchvision/../../../libjpeg.9.dylib' (no such file), '/Users/marchuertascompany/soft/miniforge3/envs/spender/lib/python3.10/lib-dynload/../../libjpeg.9.dylib' (no such file), '/Users/marchuertascompany/soft/miniforge3/envs/spender/bin/../lib/libjpeg.9.dylib' (no such file)'If you don't plan on using image functionality from `torchvision.io`, you can ignore this warning. Otherwise, there might be something wrong with your environment. Did you have `libjpeg` or `libpng` installed before building `torchvision` from source?\n",
      "  warn(\n"
     ]
    },
    {
     "name": "stdout",
     "output_type": "stream",
     "text": [
      "[Zoobot] step 0250  loss=0.3512  acc(batch)=0.859\n"
     ]
    },
    {
     "name": "stderr",
     "output_type": "stream",
     "text": [
      "/Users/marchuertascompany/soft/miniforge3/envs/spender/lib/python3.10/site-packages/torchvision/io/image.py:14: UserWarning: Failed to load image Python extension: 'dlopen(/Users/marchuertascompany/soft/miniforge3/envs/spender/lib/python3.10/site-packages/torchvision/image.so, 0x0006): Library not loaded: @rpath/libjpeg.9.dylib\n",
      "  Referenced from: <0B7EB158-53DC-3403-8A49-22178CAB4612> /Users/marchuertascompany/soft/miniforge3/envs/spender/lib/python3.10/site-packages/torchvision/image.so\n",
      "  Reason: tried: '/Users/marchuertascompany/soft/miniforge3/envs/spender/lib/python3.10/site-packages/torchvision/../../../libjpeg.9.dylib' (no such file), '/Users/marchuertascompany/soft/miniforge3/envs/spender/lib/python3.10/site-packages/torchvision/../../../libjpeg.9.dylib' (no such file), '/Users/marchuertascompany/soft/miniforge3/envs/spender/lib/python3.10/lib-dynload/../../libjpeg.9.dylib' (no such file), '/Users/marchuertascompany/soft/miniforge3/envs/spender/bin/../lib/libjpeg.9.dylib' (no such file)'If you don't plan on using image functionality from `torchvision.io`, you can ignore this warning. Otherwise, there might be something wrong with your environment. Did you have `libjpeg` or `libpng` installed before building `torchvision` from source?\n",
      "  warn(\n",
      "/Users/marchuertascompany/soft/miniforge3/envs/spender/lib/python3.10/site-packages/torchvision/io/image.py:14: UserWarning: Failed to load image Python extension: 'dlopen(/Users/marchuertascompany/soft/miniforge3/envs/spender/lib/python3.10/site-packages/torchvision/image.so, 0x0006): Library not loaded: @rpath/libjpeg.9.dylib\n",
      "  Referenced from: <0B7EB158-53DC-3403-8A49-22178CAB4612> /Users/marchuertascompany/soft/miniforge3/envs/spender/lib/python3.10/site-packages/torchvision/image.so\n",
      "  Reason: tried: '/Users/marchuertascompany/soft/miniforge3/envs/spender/lib/python3.10/site-packages/torchvision/../../../libjpeg.9.dylib' (no such file), '/Users/marchuertascompany/soft/miniforge3/envs/spender/lib/python3.10/site-packages/torchvision/../../../libjpeg.9.dylib' (no such file), '/Users/marchuertascompany/soft/miniforge3/envs/spender/lib/python3.10/lib-dynload/../../libjpeg.9.dylib' (no such file), '/Users/marchuertascompany/soft/miniforge3/envs/spender/bin/../lib/libjpeg.9.dylib' (no such file)'If you don't plan on using image functionality from `torchvision.io`, you can ignore this warning. Otherwise, there might be something wrong with your environment. Did you have `libjpeg` or `libpng` installed before building `torchvision` from source?\n",
      "  warn(\n"
     ]
    },
    {
     "name": "stdout",
     "output_type": "stream",
     "text": [
      "[Zoobot] step 0300  loss=0.2838  acc(batch)=0.891\n"
     ]
    },
    {
     "name": "stderr",
     "output_type": "stream",
     "text": [
      "/Users/marchuertascompany/soft/miniforge3/envs/spender/lib/python3.10/site-packages/torchvision/io/image.py:14: UserWarning: Failed to load image Python extension: 'dlopen(/Users/marchuertascompany/soft/miniforge3/envs/spender/lib/python3.10/site-packages/torchvision/image.so, 0x0006): Library not loaded: @rpath/libjpeg.9.dylib\n",
      "  Referenced from: <0B7EB158-53DC-3403-8A49-22178CAB4612> /Users/marchuertascompany/soft/miniforge3/envs/spender/lib/python3.10/site-packages/torchvision/image.so\n",
      "  Reason: tried: '/Users/marchuertascompany/soft/miniforge3/envs/spender/lib/python3.10/site-packages/torchvision/../../../libjpeg.9.dylib' (no such file), '/Users/marchuertascompany/soft/miniforge3/envs/spender/lib/python3.10/site-packages/torchvision/../../../libjpeg.9.dylib' (no such file), '/Users/marchuertascompany/soft/miniforge3/envs/spender/lib/python3.10/lib-dynload/../../libjpeg.9.dylib' (no such file), '/Users/marchuertascompany/soft/miniforge3/envs/spender/bin/../lib/libjpeg.9.dylib' (no such file)'If you don't plan on using image functionality from `torchvision.io`, you can ignore this warning. Otherwise, there might be something wrong with your environment. Did you have `libjpeg` or `libpng` installed before building `torchvision` from source?\n",
      "  warn(\n",
      "/Users/marchuertascompany/soft/miniforge3/envs/spender/lib/python3.10/site-packages/torchvision/io/image.py:14: UserWarning: Failed to load image Python extension: 'dlopen(/Users/marchuertascompany/soft/miniforge3/envs/spender/lib/python3.10/site-packages/torchvision/image.so, 0x0006): Library not loaded: @rpath/libjpeg.9.dylib\n",
      "  Referenced from: <0B7EB158-53DC-3403-8A49-22178CAB4612> /Users/marchuertascompany/soft/miniforge3/envs/spender/lib/python3.10/site-packages/torchvision/image.so\n",
      "  Reason: tried: '/Users/marchuertascompany/soft/miniforge3/envs/spender/lib/python3.10/site-packages/torchvision/../../../libjpeg.9.dylib' (no such file), '/Users/marchuertascompany/soft/miniforge3/envs/spender/lib/python3.10/site-packages/torchvision/../../../libjpeg.9.dylib' (no such file), '/Users/marchuertascompany/soft/miniforge3/envs/spender/lib/python3.10/lib-dynload/../../libjpeg.9.dylib' (no such file), '/Users/marchuertascompany/soft/miniforge3/envs/spender/bin/../lib/libjpeg.9.dylib' (no such file)'If you don't plan on using image functionality from `torchvision.io`, you can ignore this warning. Otherwise, there might be something wrong with your environment. Did you have `libjpeg` or `libpng` installed before building `torchvision` from source?\n",
      "  warn(\n"
     ]
    },
    {
     "name": "stdout",
     "output_type": "stream",
     "text": [
      "[Zoobot] val loss=0.2807  acc=0.8741\n"
     ]
    }
   ],
   "source": [
    "import timm\n",
    "\n",
    "zoobot_id = \"mwalmsley/zoobot-encoder-convnext_nano\"\n",
    "encoder_zoobot = timm.create_model(f\"hf_hub:{zoobot_id}\", pretrained=True, num_classes=0).to(device)\n",
    "encoder_zoobot.eval()\n",
    "for p in encoder_zoobot.parameters(): p.requires_grad = False\n",
    "\n",
    "with torch.no_grad():\n",
    "    dummy = torch.zeros(1, 3, IMG_SIZE, IMG_SIZE).to(device)\n",
    "    feats = encoder_zoobot(dummy)\n",
    "    feat_dim = feats.shape[-1] if feats.ndim == 2 else feats.flatten(1).shape[-1]\n",
    "\n",
    "head_z = nn.Linear(feat_dim, NUM_CLASSES).to(device)\n",
    "optim_z = torch.optim.AdamW(head_z.parameters(), lr=1e-3, weight_decay=1e-2)\n",
    "criterion = nn.CrossEntropyLoss()\n",
    "\n",
    "def zoobot_features(batch_x):\n",
    "    with torch.no_grad():\n",
    "        z = encoder_zoobot(batch_x)\n",
    "        if z.ndim > 2: z = z.flatten(1)\n",
    "    return z\n",
    "\n",
    "def train_linear_probe_zoobot(head, train_loader, steps=300):\n",
    "    head.train()\n",
    "    it = iter(train_loader)\n",
    "    for step in range(1, steps+1):\n",
    "        try:\n",
    "            x, y = next(it)\n",
    "        except StopIteration:\n",
    "            it = iter(train_loader); x, y = next(it)\n",
    "        x, y = x.to(device), y.to(device)\n",
    "        feats = zoobot_features(x)\n",
    "        logits = head(feats)\n",
    "        loss = criterion(logits, y)\n",
    "        optim_z.zero_grad(set_to_none=True)\n",
    "        loss.backward(); optim_z.step()\n",
    "        if step % 50 == 0:\n",
    "            pred = logits.argmax(1)\n",
    "            acc = (pred==y).float().mean().item()\n",
    "            print(f\"[Zoobot] step {step:04d}  loss={loss.item():.4f}  acc(batch)={acc:.3f}\")\n",
    "\n",
    "@torch.no_grad()\n",
    "def eval_linear_probe_zoobot(head, loader):\n",
    "    head.eval()\n",
    "    tot, correct, loss_sum = 0, 0, 0.0\n",
    "    for x,y in loader:\n",
    "        x,y = x.to(device), y.to(device)\n",
    "        feats = zoobot_features(x)\n",
    "        logits = head(feats)\n",
    "        loss = criterion(logits, y)\n",
    "        loss_sum += loss.item()*x.size(0)\n",
    "        pred = logits.argmax(1)\n",
    "        tot += y.size(0); correct += (pred==y).sum().item()\n",
    "    return loss_sum/tot, correct/tot\n",
    "\n",
    "print(\"Training linear probe (Zoobot ConvNeXt Nano, frozen encoder)...\")\n",
    "train_linear_probe_zoobot(head_z, train_loader, steps=300)\n",
    "zoobot_val_loss, zoobot_val_acc = eval_linear_probe_zoobot(head_z, val_loader)\n",
    "print(f\"[Zoobot] val loss={zoobot_val_loss:.4f}  acc={zoobot_val_acc:.4f}\")"
   ]
  },
  {
   "cell_type": "markdown",
   "metadata": {},
   "source": [
    "## 4) Compare results + confusion matrices"
   ]
  },
  {
   "cell_type": "code",
   "execution_count": 6,
   "metadata": {},
   "outputs": [
    {
     "name": "stderr",
     "output_type": "stream",
     "text": [
      "/Users/marchuertascompany/soft/miniforge3/envs/spender/lib/python3.10/site-packages/torchvision/io/image.py:14: UserWarning: Failed to load image Python extension: 'dlopen(/Users/marchuertascompany/soft/miniforge3/envs/spender/lib/python3.10/site-packages/torchvision/image.so, 0x0006): Library not loaded: @rpath/libjpeg.9.dylib\n",
      "  Referenced from: <0B7EB158-53DC-3403-8A49-22178CAB4612> /Users/marchuertascompany/soft/miniforge3/envs/spender/lib/python3.10/site-packages/torchvision/image.so\n",
      "  Reason: tried: '/Users/marchuertascompany/soft/miniforge3/envs/spender/lib/python3.10/site-packages/torchvision/../../../libjpeg.9.dylib' (no such file), '/Users/marchuertascompany/soft/miniforge3/envs/spender/lib/python3.10/site-packages/torchvision/../../../libjpeg.9.dylib' (no such file), '/Users/marchuertascompany/soft/miniforge3/envs/spender/lib/python3.10/lib-dynload/../../libjpeg.9.dylib' (no such file), '/Users/marchuertascompany/soft/miniforge3/envs/spender/bin/../lib/libjpeg.9.dylib' (no such file)'If you don't plan on using image functionality from `torchvision.io`, you can ignore this warning. Otherwise, there might be something wrong with your environment. Did you have `libjpeg` or `libpng` installed before building `torchvision` from source?\n",
      "  warn(\n",
      "/Users/marchuertascompany/soft/miniforge3/envs/spender/lib/python3.10/site-packages/torchvision/io/image.py:14: UserWarning: Failed to load image Python extension: 'dlopen(/Users/marchuertascompany/soft/miniforge3/envs/spender/lib/python3.10/site-packages/torchvision/image.so, 0x0006): Library not loaded: @rpath/libjpeg.9.dylib\n",
      "  Referenced from: <0B7EB158-53DC-3403-8A49-22178CAB4612> /Users/marchuertascompany/soft/miniforge3/envs/spender/lib/python3.10/site-packages/torchvision/image.so\n",
      "  Reason: tried: '/Users/marchuertascompany/soft/miniforge3/envs/spender/lib/python3.10/site-packages/torchvision/../../../libjpeg.9.dylib' (no such file), '/Users/marchuertascompany/soft/miniforge3/envs/spender/lib/python3.10/site-packages/torchvision/../../../libjpeg.9.dylib' (no such file), '/Users/marchuertascompany/soft/miniforge3/envs/spender/lib/python3.10/lib-dynload/../../libjpeg.9.dylib' (no such file), '/Users/marchuertascompany/soft/miniforge3/envs/spender/bin/../lib/libjpeg.9.dylib' (no such file)'If you don't plan on using image functionality from `torchvision.io`, you can ignore this warning. Otherwise, there might be something wrong with your environment. Did you have `libjpeg` or `libpng` installed before building `torchvision` from source?\n",
      "  warn(\n",
      "/Users/marchuertascompany/soft/miniforge3/envs/spender/lib/python3.10/site-packages/torchvision/io/image.py:14: UserWarning: Failed to load image Python extension: 'dlopen(/Users/marchuertascompany/soft/miniforge3/envs/spender/lib/python3.10/site-packages/torchvision/image.so, 0x0006): Library not loaded: @rpath/libjpeg.9.dylib\n",
      "  Referenced from: <0B7EB158-53DC-3403-8A49-22178CAB4612> /Users/marchuertascompany/soft/miniforge3/envs/spender/lib/python3.10/site-packages/torchvision/image.so\n",
      "  Reason: tried: '/Users/marchuertascompany/soft/miniforge3/envs/spender/lib/python3.10/site-packages/torchvision/../../../libjpeg.9.dylib' (no such file), '/Users/marchuertascompany/soft/miniforge3/envs/spender/lib/python3.10/site-packages/torchvision/../../../libjpeg.9.dylib' (no such file), '/Users/marchuertascompany/soft/miniforge3/envs/spender/lib/python3.10/lib-dynload/../../libjpeg.9.dylib' (no such file), '/Users/marchuertascompany/soft/miniforge3/envs/spender/bin/../lib/libjpeg.9.dylib' (no such file)'If you don't plan on using image functionality from `torchvision.io`, you can ignore this warning. Otherwise, there might be something wrong with your environment. Did you have `libjpeg` or `libpng` installed before building `torchvision` from source?\n",
      "  warn(\n",
      "/Users/marchuertascompany/soft/miniforge3/envs/spender/lib/python3.10/site-packages/torchvision/io/image.py:14: UserWarning: Failed to load image Python extension: 'dlopen(/Users/marchuertascompany/soft/miniforge3/envs/spender/lib/python3.10/site-packages/torchvision/image.so, 0x0006): Library not loaded: @rpath/libjpeg.9.dylib\n",
      "  Referenced from: <0B7EB158-53DC-3403-8A49-22178CAB4612> /Users/marchuertascompany/soft/miniforge3/envs/spender/lib/python3.10/site-packages/torchvision/image.so\n",
      "  Reason: tried: '/Users/marchuertascompany/soft/miniforge3/envs/spender/lib/python3.10/site-packages/torchvision/../../../libjpeg.9.dylib' (no such file), '/Users/marchuertascompany/soft/miniforge3/envs/spender/lib/python3.10/site-packages/torchvision/../../../libjpeg.9.dylib' (no such file), '/Users/marchuertascompany/soft/miniforge3/envs/spender/lib/python3.10/lib-dynload/../../libjpeg.9.dylib' (no such file), '/Users/marchuertascompany/soft/miniforge3/envs/spender/bin/../lib/libjpeg.9.dylib' (no such file)'If you don't plan on using image functionality from `torchvision.io`, you can ignore this warning. Otherwise, there might be something wrong with your environment. Did you have `libjpeg` or `libpng` installed before building `torchvision` from source?\n",
      "  warn(\n"
     ]
    },
    {
     "data": {
      "image/png": "[encoded data removed]",
      "text/plain": [
       "<Figure size 1200x400 with 2 Axes>"
      ]
     },
     "metadata": {},
     "output_type": "display_data"
    }
   ],
   "source": [
    "import numpy as np, matplotlib.pyplot as plt\n",
    "\n",
    "@torch.no_grad()\n",
    "def preds_for(head, loader, feats_fn):\n",
    "    y_true, y_pred = [], []\n",
    "    for x,y in loader:\n",
    "        x = x.to(device)\n",
    "        logits = head(feats_fn(x))\n",
    "        y_true.append(y.numpy())\n",
    "        y_pred.append(logits.argmax(1).cpu().numpy())\n",
    "    y_true = np.concatenate(y_true); y_pred = np.concatenate(y_pred)\n",
    "    return y_true, y_pred\n",
    "\n",
    "y_true_d, y_pred_d = preds_for(head,   val_loader, dinov2_features)\n",
    "y_true_z, y_pred_z = preds_for(head_z, val_loader, zoobot_features)\n",
    "\n",
    "labels = getattr(train_ds, \"classes\", [str(i) for i in range(int(max(y_true_d.max(), y_true_z.max()))+1)])\n",
    "def confusion_matrix_np(y_true, y_pred, K):\n",
    "    cm = np.zeros((K,K), dtype=int)\n",
    "    for t,p in zip(y_true, y_pred):\n",
    "        cm[int(t), int(p)] += 1\n",
    "    return cm\n",
    "\n",
    "cm_d = confusion_matrix_np(y_true_d, y_pred_d, len(labels))\n",
    "cm_z = confusion_matrix_np(y_true_z, y_pred_z, len(labels))\n",
    "\n",
    "def plot_cm(cm, labels, title, ax):\n",
    "    im = ax.imshow(cm, cmap=\"Blues\")\n",
    "    ax.set_title(title)\n",
    "    ax.set_xlabel(\"Predicted\"); ax.set_ylabel(\"True\")\n",
    "    ax.set_xticks(range(len(labels))); ax.set_yticks(range(len(labels)))\n",
    "    ax.set_xticklabels(labels, rotation=45, ha=\"right\"); ax.set_yticklabels(labels)\n",
    "    for i in range(cm.shape[0]):\n",
    "        for j in range(cm.shape[1]):\n",
    "            ax.text(j, i, cm[i,j], ha=\"center\", va=\"center\", fontsize=8)\n",
    "    return im\n",
    "\n",
    "fig, axes = plt.subplots(1,2, figsize=(12,4))\n",
    "plot_cm(cm_d, labels, f\"DINOv2-S — acc={dino_val_acc:.3f}\", axes[0])\n",
    "im = plot_cm(cm_z, labels, f\"Zoobot ConvNeXt Nano — acc={zoobot_val_acc:.3f}\", axes[1])\n",
    "plt.tight_layout(); plt.show()"
   ]
  }
 ],
 "metadata": {
  "kernelspec": {
   "display_name": "spender",
   "language": "python",
   "name": "python3"
  },
  "language_info": {
   "codemirror_mode": {
    "name": "ipython",
    "version": 3
   },
   "file_extension": ".py",
   "mimetype": "text/x-python",
   "name": "python",
   "nbconvert_exporter": "python",
   "pygments_lexer": "ipython3",
   "version": "3.10.15"
  }
 },
 "nbformat": 4,
 "nbformat_minor": 5
}
